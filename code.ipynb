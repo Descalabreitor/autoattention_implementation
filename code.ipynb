{
 "cells": [
  {
   "cell_type": "markdown",
   "metadata": {},
   "source": [
    "## Implementation of autoattention "
   ]
  },
  {
   "cell_type": "code",
   "execution_count": 44,
   "metadata": {},
   "outputs": [
    {
     "name": "stdout",
     "output_type": "stream",
     "text": [
      "tensor([[0.2500, 0.2500, 0.2500, 0.2500],\n",
      "        [0.2376, 0.2457, 0.2540, 0.2626],\n",
      "        [0.2463, 0.2487, 0.2512, 0.2538],\n",
      "        [0.2450, 0.2483, 0.2516, 0.2550]])\n"
     ]
    },
    {
     "data": {
      "text/plain": [
       "tensor([1.2500, 1.2626, 1.2538, 1.2550])"
      ]
     },
     "execution_count": 44,
     "metadata": {},
     "output_type": "execute_result"
    }
   ],
   "source": [
    "import torch\n",
    "import numpy as np\n",
    "\n",
    "#Vectores Q, K, V\n",
    "\n",
    "# Calculamos score ie: [q1k1, q1k2, q1k3, q1k4], Q2..., Q3..., Q4...\n",
    "# Dividimos cada valor por la raiz de D_k\n",
    "# Aplicamos softmax sobre cada vector \n",
    "# Deberia quedas como recultado una matriz DK * DQ\n",
    "# Multiplicamos la matriz QK por V y luego sumamos para que quede un vector \n",
    "\n",
    "Q = torch.tensor([[0.0, 0.0, 0.0], [1, 1, 1], [0.3, 0.3, 0.3], [0.4, 0.4, 0.4]])\n",
    "K = torch.tensor([[0.1, 0.1, 0.1], [0.2, 0.2, 0.2], [0.3, 0.3, 0.3], [0.4, 0.4, 0.4]])\n",
    "V = torch.tensor([[1.0, 0.0, 0.0], [0.0, 1.0, 0.0], [0.0, 0.0, 1.0], [0.0, 1.0, 1.0]])\n",
    "\n",
    "\n",
    "\n",
    "QK = torch.matmul(Q, K.t())\n",
    "QK = QK / np.square(K.shape[1])\n",
    "\n",
    "weights = torch.softmax(QK, dim = 1)\n",
    "print(weights)\n",
    "for weight ,i in enumerate(weights):\n",
    "    \n",
    "att = WV.sum(dim=1)\n",
    "att"
   ]
  },
  {
   "cell_type": "code",
   "execution_count": null,
   "metadata": {},
   "outputs": [],
   "source": [
    "tensor([[0.2500, 0.5000, 0.5000],\n",
    "        [0.1508, 0.5744, 0.6457],\n",
    "        [0.2173, 0.5225, 0.5449],\n",
    "        [0.2070, 0.5300, 0.5597]])"
   ]
  }
 ],
 "metadata": {
  "kernelspec": {
   "display_name": "PLN",
   "language": "python",
   "name": "python3"
  },
  "language_info": {
   "codemirror_mode": {
    "name": "ipython",
    "version": 3
   },
   "file_extension": ".py",
   "mimetype": "text/x-python",
   "name": "python",
   "nbconvert_exporter": "python",
   "pygments_lexer": "ipython3",
   "version": "3.11.5"
  }
 },
 "nbformat": 4,
 "nbformat_minor": 2
}
