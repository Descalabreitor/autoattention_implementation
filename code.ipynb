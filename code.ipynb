{
 "cells": [
  {
   "cell_type": "markdown",
   "metadata": {},
   "source": [
    "## Implementation of autoattention "
   ]
  },
  {
   "cell_type": "code",
   "execution_count": 28,
   "metadata": {},
   "outputs": [
    {
     "name": "stdout",
     "output_type": "stream",
     "text": [
      "tensor([[1.0000, 0.0000, 0.0000],\n",
      "        [0.4917, 0.5083, 0.0000],\n",
      "        [0.3311, 0.3333, 0.3356],\n",
      "        [0.2463, 0.5025, 0.5050]])\n"
     ]
    }
   ],
   "source": [
    "import torch\n",
    "import numpy as np\n",
    "\n",
    "#Vectores Q, K, V\n",
    "\n",
    "# Calculamos score ie: [q1k1, q1k2, q1k3, q1k4], Q2..., Q3..., Q4...\n",
    "# Dividimos cada valor por la raiz de D_k\n",
    "# Aplicamos softmax sobre cada vector \n",
    "# Deberia quedas como recultado una matriz DK * DQ\n",
    "# Multiplicamos la matriz QK por V y luego sumamos para que quede un vector \n",
    "\n",
    "Q = torch.tensor([[0.0, 0.0, 0.0], [1, 1, 1], [0.2, 0.2, 0.2], [0.3, 0.3, 0.3]])\n",
    "K = torch.tensor([[0.1, 0.1, 0.1], [0.2, 0.2, 0.2], [0.3, 0.3, 0.3], [0.4, 0.4, 0.4]])\n",
    "V = torch.tensor([[1., 0., 0.], [0., 1., 0.], [0., 0., 1.], [0., 1., 1.]])\n",
    "\n",
    "\n",
    "\n",
    "QK = torch.matmul(Q, K.t())\n",
    "QK = QK / np.square(Q.shape[1])\n",
    "mask = torch.triu((torch.ones(QK.shape, dtype=torch.bool)), diagonal= 1)\n",
    "QK = QK.masked_fill(mask ==  1, float('-inf'))\n",
    "weights = torch.softmax(QK, dim = 1)\n",
    "WV = weights.matmul(V)\n",
    "print(WV)"
   ]
  },
  {
   "cell_type": "code",
   "execution_count": null,
   "metadata": {},
   "outputs": [],
   "source": [
    "tensor([[0.2500, 0.5000, 0.5000],\n",
    "        [0.1508, 0.5744, 0.6457],\n",
    "        [0.2173, 0.5225, 0.5449],\n",
    "        [0.2070, 0.5300, 0.5597]])"
   ]
  }
 ],
 "metadata": {
  "kernelspec": {
   "display_name": "PLN",
   "language": "python",
   "name": "python3"
  },
  "language_info": {
   "codemirror_mode": {
    "name": "ipython",
    "version": 3
   },
   "file_extension": ".py",
   "mimetype": "text/x-python",
   "name": "python",
   "nbconvert_exporter": "python",
   "pygments_lexer": "ipython3",
   "version": "3.11.5"
  }
 },
 "nbformat": 4,
 "nbformat_minor": 2
}
